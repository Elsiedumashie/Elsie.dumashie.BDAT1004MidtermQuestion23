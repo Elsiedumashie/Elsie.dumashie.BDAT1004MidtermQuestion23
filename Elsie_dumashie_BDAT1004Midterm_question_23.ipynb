{
  "nbformat": 4,
  "nbformat_minor": 0,
  "metadata": {
    "colab": {
      "provenance": []
    },
    "kernelspec": {
      "name": "python3",
      "display_name": "Python 3"
    },
    "language_info": {
      "name": "python"
    }
  },
  "cells": [
    {
      "cell_type": "code",
      "execution_count": null,
      "metadata": {
        "id": "XPvFwJljmGdo"
      },
      "outputs": [],
      "source": []
    },
    {
      "cell_type": "markdown",
      "source": [
        "Develop a recursive function tough() that takes two nonnegative integer arguments and outputs a pattern as shown below. Hint: The first argument represents the indentation of the pattern, where the second argument -- always a pattern of 2 indicates the number *s in the longest line of *s in the pattern\n"
      ],
      "metadata": {
        "id": "zKXnnDCQmHcZ"
      }
    },
    {
      "cell_type": "code",
      "source": [
        "def tough(indent ,pattern):\n",
        "  if(pattern > 0):\n",
        "    tough(indent, pattern//2)\n",
        "\n",
        "    print(\" \" * indent + \"*\" * pattern)\n",
        "\n",
        "    tough(indent + 1 , pattern//2)\n"
      ],
      "metadata": {
        "id": "NnxVQB42mIfh"
      },
      "execution_count": 25,
      "outputs": []
    },
    {
      "cell_type": "code",
      "source": [
        "tough(0,4)"
      ],
      "metadata": {
        "colab": {
          "base_uri": "https://localhost:8080/"
        },
        "id": "pFMJCFVL21Fn",
        "outputId": "2693e809-19f7-4301-9ba6-b32accdb7ff6"
      },
      "execution_count": 26,
      "outputs": [
        {
          "output_type": "stream",
          "name": "stdout",
          "text": [
            "*\n",
            "**\n",
            " *\n",
            "****\n",
            " *\n",
            " **\n",
            "  *\n"
          ]
        }
      ]
    }
  ]
}